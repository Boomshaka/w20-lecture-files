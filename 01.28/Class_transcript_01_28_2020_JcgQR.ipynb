{
 "cells": [
  {
   "cell_type": "markdown",
   "metadata": {},
   "source": [
    "# In-class transcript from Lecture 7, January 28, 2020"
   ]
  },
  {
   "cell_type": "markdown",
   "metadata": {},
   "source": [
    "# Imports and defs for lecture"
   ]
  },
  {
   "cell_type": "code",
   "execution_count": null,
   "metadata": {},
   "outputs": [],
   "source": [
    "# These are the standard imports for CS 111. \n",
    "# This list may change as the quarter goes on.\n",
    "\n",
    "import os\n",
    "import time\n",
    "import math\n",
    "import numpy as np\n",
    "import numpy.linalg as npla\n",
    "import scipy\n",
    "from scipy import linalg as spla\n",
    "import scipy.sparse\n",
    "import scipy.sparse.linalg\n",
    "import matplotlib.pyplot as plt\n",
    "from matplotlib import cm\n",
    "from mpl_toolkits.mplot3d import axes3d\n",
    "%matplotlib inline"
   ]
  },
  {
   "cell_type": "code",
   "execution_count": null,
   "metadata": {},
   "outputs": [],
   "source": [
    "# The cs111 directory on the \"Software from Lecture\" GitHub site has all the home-made course software.\n",
    "import cs111"
   ]
  },
  {
   "cell_type": "markdown",
   "metadata": {},
   "source": [
    "# Review: Matrix view of Jacobi algorithm"
   ]
  },
  {
   "cell_type": "code",
   "execution_count": null,
   "metadata": {},
   "outputs": [],
   "source": [
    "A = cs111.make_A(2).toarray()\n",
    "b = np.random.rand(4)\n",
    "print('A:\\n', A)\n",
    "print()\n",
    "print('b:', b)\n",
    "x = np.zeros(4)\n",
    "print()\n",
    "print('x:', x)"
   ]
  },
  {
   "cell_type": "code",
   "execution_count": null,
   "metadata": {},
   "outputs": [],
   "source": [
    "d = A.diagonal()\n",
    "D = np.diag(d)\n",
    "C = A - D\n",
    "print('D:\\n', D)\n",
    "print()\n",
    "print('C:\\n', C)"
   ]
  },
  {
   "cell_type": "code",
   "execution_count": null,
   "metadata": {},
   "outputs": [],
   "source": [
    "x = (b - C@x) / d\n",
    "print('x =',x)\n",
    "\n",
    "relres = npla.norm(b - A@x)/npla.norm(b)\n",
    "print('relres =', relres)"
   ]
  },
  {
   "cell_type": "code",
   "execution_count": null,
   "metadata": {},
   "outputs": [],
   "source": [
    "x = (b - C@x) / d # divide x elementwise by d; run this cell several times to see convergence.\n",
    "print('x =',x)\n",
    "\n",
    "relres = npla.norm(b - A@x)/npla.norm(b)\n",
    "print('relres =', relres)"
   ]
  },
  {
   "cell_type": "code",
   "execution_count": null,
   "metadata": {},
   "outputs": [],
   "source": [
    "A = cs111.make_A(2) # Make a sparse matrix to hand to Jsolve\n",
    "\n",
    "x, history = cs111.Jsolve(A, b, max_iters=100)\n",
    "\n",
    "print('x =',x)\n",
    "print('relres =', history[-1])"
   ]
  },
  {
   "cell_type": "markdown",
   "metadata": {},
   "source": [
    "# Compare convergence of CG and Jacobi"
   ]
  },
  {
   "cell_type": "code",
   "execution_count": null,
   "metadata": {},
   "outputs": [],
   "source": [
    "A = cs111.make_A(100)\n",
    "b = cs111.make_b(100, top=cs111.radiator(100))"
   ]
  },
  {
   "cell_type": "code",
   "execution_count": null,
   "metadata": {},
   "outputs": [],
   "source": [
    "# Plot relative residual (y axis) versus iteration number (x axis) for both Jacobi and CG\n",
    "\n",
    "%matplotlib inline\n",
    "plt.figure()\n",
    "\n",
    "(xJ,resvecJ) = cs111.Jsolve(A, b, tol = 1e-6, max_iters = 1000)\n",
    "print('\\nJacobi iters:', len(resvecJ)-1)\n",
    "print('last rel res:', resvecJ[-1])\n",
    "print('computed rel res:', npla.norm(A@xJ - b) / npla.norm(b))\n",
    "plt.semilogy(resvecJ, label = 'Jacobi')\n",
    "\n",
    "(xCG,resvecCG) = cs111.CGsolve(A, b, tol = 1e-6, max_iters = 1000)\n",
    "print('\\nCG iters:', len(resvecCG)-1)\n",
    "print('last rel res:', resvecCG[-1])\n",
    "print('computed rel res:', npla.norm(A@xCG - b) / npla.norm(b))\n",
    "plt.semilogy(resvecCG, label = 'CG')\n",
    "\n",
    "plt.legend()\n",
    "plt.xlabel('iterations')\n",
    "plt.ylabel('relative residual')\n",
    "plt.title('Iterative methods for temperature problem with n = %d' % A.shape[0])"
   ]
  },
  {
   "cell_type": "code",
   "execution_count": null,
   "metadata": {},
   "outputs": [],
   "source": [
    "A.shape"
   ]
  },
  {
   "cell_type": "code",
   "execution_count": null,
   "metadata": {},
   "outputs": [],
   "source": [
    "A.nnz"
   ]
  },
  {
   "cell_type": "markdown",
   "metadata": {},
   "source": [
    "# QR factorization revisited: square A; rectangular A; economy-size QR"
   ]
  },
  {
   "cell_type": "markdown",
   "metadata": {},
   "source": [
    "# Square matrix A"
   ]
  },
  {
   "cell_type": "code",
   "execution_count": null,
   "metadata": {},
   "outputs": [],
   "source": [
    "A = np.round(20*np.random.rand(4,4))\n",
    "A\n"
   ]
  },
  {
   "cell_type": "code",
   "execution_count": null,
   "metadata": {},
   "outputs": [],
   "source": [
    "Q, R = spla.qr(A)\n",
    "print('Q:', Q.shape); print(Q)\n",
    "print('\\nR:', R.shape); print(R)\n",
    "npla.norm(Q @ R - A )"
   ]
  },
  {
   "cell_type": "code",
   "execution_count": null,
   "metadata": {},
   "outputs": [],
   "source": [
    "print(Q.T @ Q)"
   ]
  },
  {
   "cell_type": "code",
   "execution_count": null,
   "metadata": {},
   "outputs": [],
   "source": [
    "# Solve Ax = b\n",
    "\n",
    "b = np.random.rand(4)\n",
    "b"
   ]
  },
  {
   "cell_type": "code",
   "execution_count": null,
   "metadata": {},
   "outputs": [],
   "source": [
    "x = cs111.Usolve(R, Q.T @ b)\n",
    "print('x =',x)\n",
    "\n",
    "relres = npla.norm(b - A@x)/npla.norm(b)\n",
    "print('relres =', relres)"
   ]
  },
  {
   "cell_type": "markdown",
   "metadata": {},
   "source": [
    "# Rectangular matrix A"
   ]
  },
  {
   "cell_type": "code",
   "execution_count": null,
   "metadata": {},
   "outputs": [],
   "source": [
    "A = np.round(20*np.random.rand(10,4))\n",
    "A\n"
   ]
  },
  {
   "cell_type": "code",
   "execution_count": null,
   "metadata": {},
   "outputs": [],
   "source": [
    "Q, R = spla.qr(A)\n",
    "Q.shape"
   ]
  },
  {
   "cell_type": "code",
   "execution_count": null,
   "metadata": {},
   "outputs": [],
   "source": [
    "npla.norm(Q.T @ Q - np.eye(10))"
   ]
  },
  {
   "cell_type": "code",
   "execution_count": null,
   "metadata": {},
   "outputs": [],
   "source": [
    "R"
   ]
  },
  {
   "cell_type": "code",
   "execution_count": null,
   "metadata": {},
   "outputs": [],
   "source": [
    "npla.norm(Q @ R - A)"
   ]
  },
  {
   "cell_type": "code",
   "execution_count": null,
   "metadata": {},
   "outputs": [],
   "source": []
  }
 ],
 "metadata": {
  "kernelspec": {
   "display_name": "Python 3",
   "language": "python",
   "name": "python3"
  },
  "language_info": {
   "codemirror_mode": {
    "name": "ipython",
    "version": 3
   },
   "file_extension": ".py",
   "mimetype": "text/x-python",
   "name": "python",
   "nbconvert_exporter": "python",
   "pygments_lexer": "ipython3",
   "version": "3.6.5"
  }
 },
 "nbformat": 4,
 "nbformat_minor": 2
}
