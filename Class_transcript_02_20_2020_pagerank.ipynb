{
 "cells": [
  {
   "cell_type": "markdown",
   "metadata": {},
   "source": [
    "# In-class transcript from Lecture 13, February 20, 2020"
   ]
  },
  {
   "cell_type": "markdown",
   "metadata": {},
   "source": [
    "# Imports and defs for lecture"
   ]
  },
  {
   "cell_type": "code",
   "execution_count": null,
   "metadata": {},
   "outputs": [],
   "source": [
    "# These are the standard imports for CS 111. \n",
    "# This list may change as the quarter goes on.\n",
    "\n",
    "import os\n",
    "import time\n",
    "import math\n",
    "import numpy as np\n",
    "import numpy.linalg as npla\n",
    "import scipy\n",
    "from scipy import linalg as spla\n",
    "import scipy.sparse\n",
    "import scipy.sparse.linalg\n",
    "import matplotlib.pyplot as plt\n",
    "from matplotlib import cm\n",
    "from mpl_toolkits.mplot3d import axes3d\n",
    "%matplotlib inline\n",
    "import cs111"
   ]
  },
  {
   "cell_type": "code",
   "execution_count": null,
   "metadata": {},
   "outputs": [],
   "source": [
    "np.set_printoptions(precision = 4)"
   ]
  },
  {
   "cell_type": "code",
   "execution_count": null,
   "metadata": {},
   "outputs": [],
   "source": [
    "def make_M_from_E(E):\n",
    "    \"\"\"Make the (dense) PageRank matrix from the adjacency matrix of a graph\n",
    "    \"\"\"\n",
    "    n = E.shape[0]\n",
    "    outdegree = np.sum(E,0)\n",
    "    for j in range(n):\n",
    "        if outdegree[j] == 0:\n",
    "            E[:,j] = np.ones(n)\n",
    "            E[j,j] = 0\n",
    "    A = E / np.sum(E,0)\n",
    "    S = np.ones((n,n)) / n\n",
    "    m = 0.15\n",
    "    M = (1 - m) * A + m * S\n",
    "    return M"
   ]
  },
  {
   "cell_type": "markdown",
   "metadata": {},
   "source": [
    "# Adjacency matrix for page rank example 1"
   ]
  },
  {
   "cell_type": "code",
   "execution_count": null,
   "metadata": {},
   "outputs": [],
   "source": [
    "E1 = np.load('PageRankEG1.npy')\n",
    "n = E1.shape[0]\n",
    "print('E1:\\n', E1)"
   ]
  },
  {
   "cell_type": "markdown",
   "metadata": {},
   "source": [
    "# Ranking by in-degree"
   ]
  },
  {
   "cell_type": "code",
   "execution_count": null,
   "metadata": {},
   "outputs": [],
   "source": [
    "indegree = np.sum(E1,1)\n",
    "indegree"
   ]
  },
  {
   "cell_type": "code",
   "execution_count": null,
   "metadata": {},
   "outputs": [],
   "source": [
    "np.sort(indegree)[::-1]"
   ]
  },
  {
   "cell_type": "code",
   "execution_count": null,
   "metadata": {},
   "outputs": [],
   "source": [
    "degree_perm = np.argsort(indegree)[::-1]\n",
    "print('indegree ordering:', degree_perm)"
   ]
  },
  {
   "cell_type": "code",
   "execution_count": null,
   "metadata": {},
   "outputs": [],
   "source": [
    "indegree[degree_perm]"
   ]
  },
  {
   "cell_type": "markdown",
   "metadata": {},
   "source": [
    "# Ranking by eigenvector"
   ]
  },
  {
   "cell_type": "code",
   "execution_count": null,
   "metadata": {},
   "outputs": [],
   "source": [
    "d, V = spla.eig(E1)\n",
    "print('eigenvalues:', d)"
   ]
  },
  {
   "cell_type": "markdown",
   "metadata": {},
   "source": [
    "# First fix: Scale columns to sum to one"
   ]
  },
  {
   "cell_type": "code",
   "execution_count": null,
   "metadata": {},
   "outputs": [],
   "source": [
    "print('E1:\\n', E1)"
   ]
  },
  {
   "cell_type": "code",
   "execution_count": null,
   "metadata": {},
   "outputs": [],
   "source": [
    "sum(E1,0)"
   ]
  },
  {
   "cell_type": "code",
   "execution_count": null,
   "metadata": {},
   "outputs": [],
   "source": [
    "# Scale columns to sum to one\n",
    "A = E1 / sum(E1,0)\n",
    "print('A:\\n', A)"
   ]
  },
  {
   "cell_type": "code",
   "execution_count": null,
   "metadata": {},
   "outputs": [],
   "source": [
    "d, V = spla.eig(A)\n",
    "print('eigenvalues:', d)"
   ]
  },
  {
   "cell_type": "code",
   "execution_count": null,
   "metadata": {},
   "outputs": [],
   "source": [
    "V"
   ]
  },
  {
   "cell_type": "code",
   "execution_count": null,
   "metadata": {},
   "outputs": [],
   "source": [
    "v = V[:,0].real\n",
    "print('eigenvector v:', v)\n",
    "print('        A @ v:', A @ v)"
   ]
  },
  {
   "cell_type": "code",
   "execution_count": null,
   "metadata": {},
   "outputs": [],
   "source": [
    "eig_perm = np.argsort(v)[::-1]\n",
    "print('eigenvector ordering:', eig_perm)"
   ]
  },
  {
   "cell_type": "code",
   "execution_count": null,
   "metadata": {},
   "outputs": [],
   "source": [
    "print('E1:\\n', E1)"
   ]
  },
  {
   "cell_type": "markdown",
   "metadata": {},
   "source": [
    "# Second fix: Handle dangling nodes (vertices with outdegree zero)"
   ]
  },
  {
   "cell_type": "code",
   "execution_count": null,
   "metadata": {},
   "outputs": [],
   "source": [
    "# Create a dangling node (node 2) by erasing the edge (2,0)\n",
    "E1a = E1.copy()\n",
    "E1a[0,2] = 0\n",
    "print('E1a:\\n', E1a)"
   ]
  },
  {
   "cell_type": "code",
   "execution_count": null,
   "metadata": {},
   "outputs": [],
   "source": [
    "# Scale columns to sum to one\n",
    "A = E1a / sum(E1a,0)\n",
    "print('A:\\n', A)"
   ]
  },
  {
   "cell_type": "code",
   "execution_count": null,
   "metadata": {},
   "outputs": [],
   "source": [
    "d, V = spla.eig(A)\n",
    "print('eigenvalues:', d)"
   ]
  },
  {
   "cell_type": "code",
   "execution_count": null,
   "metadata": {},
   "outputs": [],
   "source": [
    "print('E1a:\\n', E1a)"
   ]
  },
  {
   "cell_type": "markdown",
   "metadata": {},
   "source": [
    "# Let the dangling node point to everyone\n"
   ]
  },
  {
   "cell_type": "code",
   "execution_count": null,
   "metadata": {},
   "outputs": [],
   "source": [
    "E1a[:,2] = np.ones(n)\n",
    "E1a[2,2] = 0\n",
    "print('E1a:\\n', E1a)"
   ]
  },
  {
   "cell_type": "code",
   "execution_count": null,
   "metadata": {},
   "outputs": [],
   "source": [
    "# Scale columns to sum to one\n",
    "A = E1a / sum(E1a,0)\n",
    "print('A:\\n', A)"
   ]
  },
  {
   "cell_type": "code",
   "execution_count": null,
   "metadata": {},
   "outputs": [],
   "source": [
    "d, V = spla.eig(A)\n",
    "print('eigenvalues:', d)"
   ]
  },
  {
   "cell_type": "code",
   "execution_count": null,
   "metadata": {},
   "outputs": [],
   "source": [
    "v = V[:,0].real\n",
    "print('eigenvector v:', v)\n",
    "print('        A @ v:', A @ v)\n",
    "eig_perm = np.argsort(v)[::-1]\n",
    "print('eigenvector ordering:', eig_perm)"
   ]
  },
  {
   "cell_type": "markdown",
   "metadata": {},
   "source": [
    "# Third fix: Make the matrix strongly connected"
   ]
  },
  {
   "cell_type": "code",
   "execution_count": null,
   "metadata": {},
   "outputs": [],
   "source": [
    "E2 = np.load('PageRankEG2.npy')\n",
    "print('E2:\\n', E2)\n",
    "n = E2.shape[0]"
   ]
  },
  {
   "cell_type": "code",
   "execution_count": null,
   "metadata": {},
   "outputs": [],
   "source": [
    "A = E2 / sum(E2,0)\n",
    "print('A:\\n', A)"
   ]
  },
  {
   "cell_type": "code",
   "execution_count": null,
   "metadata": {},
   "outputs": [],
   "source": [
    "d, V = spla.eig(A)\n",
    "print('eigenvalues:', d)"
   ]
  },
  {
   "cell_type": "code",
   "execution_count": null,
   "metadata": {},
   "outputs": [],
   "source": [
    "print('V:\\n', V)"
   ]
  },
  {
   "cell_type": "code",
   "execution_count": null,
   "metadata": {},
   "outputs": [],
   "source": [
    "# put a small fixed weight m from each node to every other node\n",
    "m = .15\n",
    "print(m * np.ones((n,n))/n)"
   ]
  },
  {
   "cell_type": "code",
   "execution_count": null,
   "metadata": {},
   "outputs": [],
   "source": [
    "# Now get the final matrix as a mixture of A and the small fixed weights\n",
    "M = (1-m) * A + m * np.ones((n,n))/n\n",
    "print('M:\\n', M)"
   ]
  },
  {
   "cell_type": "code",
   "execution_count": null,
   "metadata": {},
   "outputs": [],
   "source": [
    "# check that the columns still sum to one\n",
    "print(np.sum(M,0))"
   ]
  },
  {
   "cell_type": "code",
   "execution_count": null,
   "metadata": {},
   "outputs": [],
   "source": [
    "d, V = spla.eig(M)\n",
    "print('eigenvalues:', d)"
   ]
  },
  {
   "cell_type": "code",
   "execution_count": null,
   "metadata": {},
   "outputs": [],
   "source": [
    "make_M_from_E(E2)"
   ]
  },
  {
   "cell_type": "code",
   "execution_count": null,
   "metadata": {},
   "outputs": [],
   "source": [
    "i = np.argmax(d)\n",
    "print('largest eigenvalue is at position', i, ' with value', d[i])\n",
    "v = V[:,i].real\n",
    "print('eigenvector v:', v)\n",
    "print('        M @ v:', M @ v)\n",
    "eig_perm = np.argsort(v)[::-1]\n",
    "print('eigenvector ordering:', eig_perm)"
   ]
  },
  {
   "cell_type": "markdown",
   "metadata": {},
   "source": [
    "# The power method to compute the eigenvector with the largest-magnitude eigenvalue"
   ]
  },
  {
   "cell_type": "code",
   "execution_count": null,
   "metadata": {},
   "outputs": [],
   "source": [
    "# We'll go back to the first graph\n",
    "E1 = np.load('PageRankEG1.npy')\n",
    "n = E1.shape[0]\n",
    "print('E1:\\n', E1)"
   ]
  },
  {
   "cell_type": "code",
   "execution_count": null,
   "metadata": {},
   "outputs": [],
   "source": [
    "M = make_M_from_E(E1)\n",
    "print('M:\\n', M)\n",
    "print()\n",
    "d, V = spla.eig(M)\n",
    "print('eigenvalues:', d)\n",
    "i = np.argmax(d)\n",
    "print('largest eigenvalue is at position', i, ' with value', d[i])\n",
    "print()\n",
    "v = V[:,i].real\n",
    "print('eigenvector v:', v)\n",
    "print('        M @ v:', M @ v)\n",
    "eig_perm = np.argsort(v)[::-1]\n",
    "print()\n",
    "print('eigenvector ordering:', eig_perm)"
   ]
  },
  {
   "cell_type": "code",
   "execution_count": null,
   "metadata": {},
   "outputs": [],
   "source": [
    "# Power method\n",
    "x = np.ones(n)/n\n",
    "print(0, x)\n",
    "for i in range(10):\n",
    "    x = M @ x\n",
    "    x = x / npla.norm(x)\n",
    "    print(i+1, x)"
   ]
  },
  {
   "cell_type": "code",
   "execution_count": null,
   "metadata": {},
   "outputs": [],
   "source": [
    "v"
   ]
  },
  {
   "cell_type": "code",
   "execution_count": null,
   "metadata": {},
   "outputs": [],
   "source": [
    "r = cs111.pagerank1(E1)\n",
    "print('ranking from cs111.pagerank1:', r)"
   ]
  },
  {
   "cell_type": "markdown",
   "metadata": {},
   "source": [
    "# A larger example: The Harvard web crawl (from long ago)"
   ]
  },
  {
   "cell_type": "code",
   "execution_count": null,
   "metadata": {},
   "outputs": [],
   "source": [
    "E3 = np.load('PageRankEG3.npy')\n",
    "E3.shape"
   ]
  },
  {
   "cell_type": "code",
   "execution_count": null,
   "metadata": {},
   "outputs": [],
   "source": [
    "%matplotlib inline\n",
    "plt.spy(E3)"
   ]
  },
  {
   "cell_type": "code",
   "execution_count": null,
   "metadata": {},
   "outputs": [],
   "source": [
    "with open('PageRankEG3.nodelabels') as f:\n",
    "    labels = f.read().splitlines()"
   ]
  },
  {
   "cell_type": "code",
   "execution_count": null,
   "metadata": {},
   "outputs": [],
   "source": [
    "for i in range(10):\n",
    "    print(i, labels[i])"
   ]
  },
  {
   "cell_type": "code",
   "execution_count": null,
   "metadata": {},
   "outputs": [],
   "source": [
    "M = make_M_from_E(E3)\n",
    "M.shape"
   ]
  },
  {
   "cell_type": "code",
   "execution_count": null,
   "metadata": {},
   "outputs": [],
   "source": [
    "np.sum(np.sum(E3))"
   ]
  },
  {
   "cell_type": "code",
   "execution_count": null,
   "metadata": {},
   "outputs": [],
   "source": [
    "d, V = spla.eig(M)\n",
    "i = np.argmax(d)\n",
    "print('largest eigenvalue is at position', i, ' with value', d[i])"
   ]
  },
  {
   "cell_type": "code",
   "execution_count": null,
   "metadata": {},
   "outputs": [],
   "source": [
    "v = V[:,i].real\n",
    "#print('eigenvector v:', v)\n",
    "#print('        M @ v:', M @ v)\n",
    "eig_perm = np.argsort(v)[::-1]\n",
    "print('eigenvector ordering:', eig_perm[:10], ' ...')"
   ]
  },
  {
   "cell_type": "code",
   "execution_count": null,
   "metadata": {},
   "outputs": [],
   "source": [
    "for i in range(10):\n",
    "    print(i, eig_perm[i], labels[eig_perm[i]])"
   ]
  },
  {
   "cell_type": "markdown",
   "metadata": {},
   "source": [
    "# A much bigger web crawl"
   ]
  },
  {
   "cell_type": "code",
   "execution_count": null,
   "metadata": {},
   "outputs": [],
   "source": [
    "E = scipy.sparse.load_npz('webGoogle.npz')\n",
    "E.shape"
   ]
  },
  {
   "cell_type": "markdown",
   "metadata": {},
   "source": [
    "If we tried make_M_from_E() on this matrix, Jupyter would run out of memory, since M has nearly a trillion nonzero elements. And even if we could store M, it would take a vastly long time to run either npla.eig() (which is an $O(n^3)$ algorithm) or the power method (which would be $O(n^2)$ per iteration on M).\n",
    "\n",
    "The goal of Homework 6 is to implement code that runs the power method on M, but without forming M explicitly. It turns out that, if you're crafty, you can obtain the effect of multiplying M by a vector without ever forming any matrices besides E.\n",
    "\n",
    "Scipy does have a sparse-matrix eigensolver. We can't use it on M because M has too many nonzeros. But, just to get a feeling for what it can do, we can use scipy.sparse.linalg.eigs() to find a few eigenvalues of the original adjacency matrix E. Those don't help us with PageRank, but it's interesting to see how long it takes anyway."
   ]
  },
  {
   "cell_type": "code",
   "execution_count": null,
   "metadata": {},
   "outputs": [],
   "source": [
    "%time d, V = scipy.sparse.linalg.eigs(E) "
   ]
  },
  {
   "cell_type": "code",
   "execution_count": null,
   "metadata": {},
   "outputs": [],
   "source": [
    "print('some eigenvalues of E (not of M):\\n', d)"
   ]
  },
  {
   "cell_type": "code",
   "execution_count": null,
   "metadata": {},
   "outputs": [],
   "source": []
  }
 ],
 "metadata": {
  "kernelspec": {
   "display_name": "Python 3",
   "language": "python",
   "name": "python3"
  },
  "language_info": {
   "codemirror_mode": {
    "name": "ipython",
    "version": 3
   },
   "file_extension": ".py",
   "mimetype": "text/x-python",
   "name": "python",
   "nbconvert_exporter": "python",
   "pygments_lexer": "ipython3",
   "version": "3.6.5"
  }
 },
 "nbformat": 4,
 "nbformat_minor": 2
}
