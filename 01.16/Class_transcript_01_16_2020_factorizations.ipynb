{
 "cells": [
  {
   "cell_type": "markdown",
   "metadata": {},
   "source": [
    "<h2> In-class transcript from Lecture 4, January 16, 2020</h2>"
   ]
  },
  {
   "cell_type": "markdown",
   "metadata": {},
   "source": [
    "# Imports and defs for lecture"
   ]
  },
  {
   "cell_type": "code",
   "execution_count": null,
   "metadata": {},
   "outputs": [],
   "source": [
    "# These are the standard imports for CS 111. \n",
    "# This list may change as the quarter goes on.\n",
    "\n",
    "import os\n",
    "import time\n",
    "import math\n",
    "import numpy as np\n",
    "import numpy.linalg as npla\n",
    "import scipy\n",
    "from scipy import sparse\n",
    "from scipy import linalg as spla\n",
    "import matplotlib.pyplot as plt\n",
    "from matplotlib import cm\n",
    "from mpl_toolkits.mplot3d import axes3d\n",
    "%matplotlib inline"
   ]
  },
  {
   "cell_type": "code",
   "execution_count": null,
   "metadata": {},
   "outputs": [],
   "source": [
    "def Usolve(U, y):\n",
    "    \"\"\"Backward solve an upper triangular system Ux = y for x\n",
    "    Parameters: \n",
    "      U: the matrix, must be square, upper triangular, with nonzeros on the diagonal\n",
    "      y: the right-hand side vector\n",
    "    Output:\n",
    "      x: the solution vector to U @ x == y\n",
    "    \"\"\"\n",
    "    \n",
    "    raise NotImplemented(\"you will write Usolve() as part of homework 2\")\n",
    "        \n",
    "    return x"
   ]
  },
  {
   "cell_type": "code",
   "execution_count": null,
   "metadata": {},
   "outputs": [],
   "source": [
    "def LUfactorNoPiv(A):\n",
    "    \"\"\"Factor a square matrix, A == L @ U (no partial pivoting)\n",
    "    Parameters: \n",
    "      A: the matrix.\n",
    "    Outputs (in order):\n",
    "      L: the lower triangular factor, same dimensions as A, with ones on the diagonal\n",
    "      U: the upper triangular factor, same dimensions as A\n",
    "    \"\"\"\n",
    "    \n",
    "    # Check the input\n",
    "    m, n = A.shape\n",
    "    assert m == n, 'input matrix A must be square'\n",
    "    \n",
    "    # Make a copy of the matrix that we will transform into L and U\n",
    "    LU = A.astype(np.float64).copy()\n",
    "    \n",
    "    # Eliminate each column in turn\n",
    "    for piv_col in range(n):\n",
    "            \n",
    "        # Update the rest of the matrix\n",
    "        pivot = LU[piv_col, piv_col]\n",
    "        assert pivot != 0., \"pivot is zero, can't continue\"\n",
    "        for row in range(piv_col + 1, n):\n",
    "            multiplier = LU[row, piv_col] / pivot\n",
    "            LU[row, piv_col] = multiplier\n",
    "            LU[row, (piv_col+1):] -= multiplier * LU[piv_col, (piv_col+1):]\n",
    "            \n",
    "    # Separate L and U in the result\n",
    "    U = np.triu(LU)\n",
    "    L = LU - U + np.eye(n)\n",
    "    \n",
    "    return (L, U)"
   ]
  },
  {
   "cell_type": "code",
   "execution_count": null,
   "metadata": {},
   "outputs": [],
   "source": [
    "def LUfactor(A, pivoting = True):\n",
    "    \"\"\"Factor a square matrix with partial pivoting, A[p,:] == L @ U\n",
    "    Parameters: \n",
    "      A: the matrix.\n",
    "      pivoting: whether or not to do partial pivoting\n",
    "    Outputs (in order):\n",
    "      L: the lower triangular factor, same dimensions as A, with ones on the diagonal\n",
    "      U: the upper triangular factor, same dimensions as A\n",
    "      p: the permutation vector that permutes the rows of A by partial pivoting\n",
    "    \"\"\"\n",
    "    \n",
    "    # Check the input\n",
    "    m, n = A.shape\n",
    "    assert m == n, 'input matrix A must be square'\n",
    "    \n",
    "    # Initialize p to be the identity permutation\n",
    "    p = np.array(range(n))\n",
    "    \n",
    "    # Make a copy of the matrix that we will transform into L and U\n",
    "    LU = A.astype(np.float64).copy()\n",
    "    \n",
    "    # Eliminate each column in turn\n",
    "    for piv_col in range(n):\n",
    "        \n",
    "        # Choose the pivot row and swap it into place\n",
    "        if pivoting:\n",
    "            piv_row = piv_col + np.argmax(np.abs(LU[piv_col:, piv_col]))\n",
    "            assert LU[piv_row, piv_col] != 0., \"can't find nonzero pivot, matrix is singular\"\n",
    "            LU[[piv_col, piv_row], :]  = LU[[piv_row, piv_col], :]\n",
    "            p[[piv_col, piv_row]]      = p[[piv_row, piv_col]]\n",
    "            \n",
    "        # Update the rest of the matrix\n",
    "        pivot = LU[piv_col, piv_col]\n",
    "        assert pivot != 0., \"pivot is zero, can't continue\"\n",
    "        for row in range(piv_col + 1, n):\n",
    "            multiplier = LU[row, piv_col] / pivot\n",
    "            LU[row, piv_col] = multiplier\n",
    "            LU[row, (piv_col+1):] -= multiplier * LU[piv_col, (piv_col+1):]\n",
    "            \n",
    "    # Separate L and U in the result\n",
    "    U = np.triu(LU)\n",
    "    L = LU - U + np.eye(n)\n",
    "    \n",
    "    return (L, U, p)"
   ]
  },
  {
   "cell_type": "code",
   "execution_count": null,
   "metadata": {},
   "outputs": [],
   "source": [
    "def Lsolve(L, b):\n",
    "    \"\"\"Forward solve a unit lower triangular system Ly = b for y\n",
    "    Parameters: \n",
    "      L: the matrix, must be square, lower triangular, with ones on the diagonal\n",
    "      b: the right-hand side vector\n",
    "    Output:\n",
    "      y: the solution vector to L @ y == b\n",
    "    \"\"\"\n",
    "    \n",
    "    # Check the input\n",
    "    m, n = L.shape\n",
    "    assert m == n, \"matrix L must be square\"\n",
    "    assert np.all(np.tril(L) == L), \"matrix L must be lower triangular\"\n",
    "    assert np.all(np.diag(L) == 1), \"matrix L must have ones on the diagonal\"\n",
    "    \n",
    "    # Make a copy of b that we will transform into the solution\n",
    "    y = b.astype(np.float64).copy()\n",
    "    \n",
    "    # Forward solve\n",
    "    for col in range(n):\n",
    "        y[col+1:] -= y[col] * L[col+1:, col]\n",
    "        \n",
    "    return y"
   ]
  },
  {
   "cell_type": "code",
   "execution_count": null,
   "metadata": {},
   "outputs": [],
   "source": [
    "def LUsolve(A, b):\n",
    "    \"\"\"Solve a linear system Ax = b for x by LU factorization with partial pivoting.\n",
    "    Parameters: \n",
    "      A: the matrix.\n",
    "      b: the right-hand side\n",
    "    Outputs (in order):\n",
    "      x: the computed solution\n",
    "      rel_res: relative residual norm,\n",
    "        norm(b - Ax) / norm(b)\n",
    "    \"\"\"\n",
    "    \n",
    "    # Check the input\n",
    "    m, n = A.shape\n",
    "    assert m == n, 'input matrix A must be square'\n",
    "    \n",
    "    # LU factorization\n",
    "    L, U, p = LUfactor(A)\n",
    "    \n",
    "    # Forward and back substitution\n",
    "    y = Lsolve(L,b[p])\n",
    "    x = Usolve(U,y)\n",
    "    \n",
    "    # Residual norm\n",
    "    rel_res = npla.norm(b - A@x) / npla.norm(b)\n",
    "    \n",
    "    return (x, rel_res)"
   ]
  },
  {
   "cell_type": "markdown",
   "metadata": {},
   "source": [
    "# Lecture starts here"
   ]
  },
  {
   "cell_type": "code",
   "execution_count": null,
   "metadata": {},
   "outputs": [],
   "source": [
    "A = np.round(100*np.random.rand(5,5))\n",
    "print(\"A:\", A)\n",
    "print()\n",
    "x = np.random.rand(5)\n",
    "print('x:', x)\n",
    "print()\n",
    "b = A @ x\n",
    "print('b:', b)"
   ]
  },
  {
   "cell_type": "code",
   "execution_count": null,
   "metadata": {},
   "outputs": [],
   "source": [
    "xhat = npla.solve(A,b)\n",
    "print(\"computed xhat:\", xhat)"
   ]
  },
  {
   "cell_type": "code",
   "execution_count": null,
   "metadata": {},
   "outputs": [],
   "source": [
    "error = x - xhat\n",
    "print(\"error in xhat:\", error)"
   ]
  },
  {
   "cell_type": "code",
   "execution_count": null,
   "metadata": {},
   "outputs": [],
   "source": [
    "residual = b - A@xhat\n",
    "print(\"residual:\", residual)"
   ]
  },
  {
   "cell_type": "code",
   "execution_count": null,
   "metadata": {},
   "outputs": [],
   "source": [
    "print(\"norm of residual:\", npla.norm(residual))"
   ]
  },
  {
   "cell_type": "code",
   "execution_count": null,
   "metadata": {},
   "outputs": [],
   "source": [
    "print(\"relative norm of residual:\", npla.norm(residual) / npla.norm(b))"
   ]
  },
  {
   "cell_type": "code",
   "execution_count": null,
   "metadata": {},
   "outputs": [],
   "source": [
    "npla.norm(b)"
   ]
  },
  {
   "cell_type": "code",
   "execution_count": null,
   "metadata": {},
   "outputs": [],
   "source": [
    "# Example of a unit lower triangular matrix\n",
    "\n",
    "L = np.array([[1,0,0,0],[.5,1,0,0],[0,.5,1,0],[-.5,-.5,0,1]])\n",
    "print(\"L:\", L)\n",
    "print()\n",
    "b = np.array([17. ,  2.5, -7. , 10.5])\n",
    "print(\"b:\", b)"
   ]
  },
  {
   "cell_type": "code",
   "execution_count": null,
   "metadata": {},
   "outputs": [],
   "source": [
    "L @ np.array([17,-6,-4,16])"
   ]
  },
  {
   "cell_type": "code",
   "execution_count": null,
   "metadata": {},
   "outputs": [],
   "source": [
    "# But LU factorization (without pivoting) fails if it encounters a zero pivot\n",
    "\n",
    "A = np.array([[0, 1], [1, 2]])\n",
    "L,U = LUfactorNoPiv(A)\n"
   ]
  },
  {
   "cell_type": "code",
   "execution_count": null,
   "metadata": {},
   "outputs": [],
   "source": [
    "# Our 2-by-2 counterexample again, with partial pivoting this time\n",
    "\n",
    "print('A:\\n', A)\n",
    "L, U, p = LUfactor(A)\n",
    "print('\\nL:\\n', L)\n",
    "print('\\nU:\\n', U)\n",
    "print('\\np: ', p)"
   ]
  },
  {
   "cell_type": "code",
   "execution_count": null,
   "metadata": {},
   "outputs": [],
   "source": [
    "# A larger example of LU with partial pivoting\n",
    "\n",
    "A = np.round(20*np.random.rand(5,5))\n",
    "print('matrix A:\\n', A)\n",
    "xorig = np.random.rand(5)\n",
    "print('\\noriginal x:', xorig)\n",
    "b = A @ xorig\n",
    "print('\\nright-hand side b:', b)"
   ]
  },
  {
   "cell_type": "code",
   "execution_count": null,
   "metadata": {},
   "outputs": [],
   "source": [
    "# Factor the larger example\n",
    "\n",
    "L, U, p = LUfactor(A,pivoting=True)\n",
    "print(\"norm of difference between L times U and permuted A:\", npla.norm( L@U - A[p,:]))"
   ]
  },
  {
   "cell_type": "markdown",
   "metadata": {},
   "source": [
    "<H2>Appendix to Lecture: Permutation vectors and permutation matrices</H2>\n",
    "\n",
    "In the output of LUfactor above, p is a \"permutation vector\", that is, a vector containing the elements of range(n) (that is, 0 through n-1) in some permuted order. In this case, p records the permutation of the rows of A that was caused by the pivot swaps in the factorization. That's the reason L @ U is equal to A[p, :] (to 15 significant digits), as shown by the output on the line above.\n",
    "\n",
    "Let's look at p, L, and U. Note that, as expected, p is a permutation of range(5), L is unit lower triangular, and U is upper triangular. Notice also that every element of L is less than or equal to 1 in absolute value. This is _always_ true with partial pivoting, because the row swap guarantees that the pivot is the largest-magnitude element in the remaining part of the column, and therefore the multipliers can't be larger than 1."
   ]
  },
  {
   "cell_type": "code",
   "execution_count": null,
   "metadata": {},
   "outputs": [],
   "source": [
    "print('p =',p)\n",
    "print()\n",
    "print('L =\\n', L)\n",
    "print()\n",
    "print('U =\\n', U)"
   ]
  },
  {
   "cell_type": "markdown",
   "metadata": {},
   "source": [
    "How do we solve A@x = b using L, U, and p? Every time we swap two rows of the matrix, we need to swap the same two rows of the right-hand side b in order for the equations to be the same. Here's how that works.\n"
   ]
  },
  {
   "cell_type": "code",
   "execution_count": null,
   "metadata": {},
   "outputs": [],
   "source": [
    "y = Lsolve(L,b[p])\n",
    "print(\"y:\", y)\n",
    "# x = Usolve(U,y) # Use this after you've written Usolve() for Homework 2\n",
    "x = npla.solve(U,y) # Use this before you write Usolve() for Homework 2\n",
    "print(\"\\nx:\", x)\n",
    "print(\"\\nrelative residual norm:\", npla.norm(b - A @ x)/npla.norm(b))"
   ]
  },
  {
   "cell_type": "markdown",
   "metadata": {},
   "source": [
    "It's natural in numpy (or in Matlab) to permute a vector or the rows or columns of a matrix by indexing with a permutation vector. In linear algebra, though, it's traditional to permute things by multiplying with a _permutation matrix_. A permutation matrix is a square matrix that is all 0s except for exactly one 1 in every row and column. Here's an example."
   ]
  },
  {
   "cell_type": "code",
   "execution_count": null,
   "metadata": {},
   "outputs": [],
   "source": [
    "P = np.eye(5)[p,:]\n",
    "print('P =\\n',P)\n",
    "print()\n",
    "print('P @ A =\\n', P @ A)\n",
    "print()\n",
    "print('p =',p)\n",
    "print()\n",
    "print('A[p,:] =\\n',A[p,:])"
   ]
  },
  {
   "cell_type": "markdown",
   "metadata": {},
   "source": [
    "Multiplying A by P on the left permutes the rows of A, and this particular P does the same row permutation as the permutation vector p. Can you see how to read off the elements of p from the matrix P?\n",
    "\n",
    "A good rule to remember is that <b>multiplying something on the left by A does something to the rows of A</b>, and <b>multiplying A by something on the right does something to the columns of A</b>. More specifically, the \"something\" it does to the rows or columns is forming a linear combination. We've already seen this in A @ x == b: Multiplying A on the right by x forms a linear combination of the columns of A that's equal to b. In P @ A, we get a different linear combination of the rows of A for each row of P, but the linear combinations are all easy: each one is just a single row of A. That's why P @ A permutes the rows of A.\n",
    "\n",
    "So, we expect that multiplying by a permutation matrix on the right should permute the columns of A. That's exactly what happens, but there's a gotcha to be careful of. Watch the example:"
   ]
  },
  {
   "cell_type": "code",
   "execution_count": null,
   "metadata": {},
   "outputs": [],
   "source": [
    "print('p =',p)\n",
    "print()\n",
    "print('A[:,p] =\\n',A[:,p])\n",
    "print()\n",
    "print('P =\\n',P)\n",
    "print()\n",
    "print('A @ P =\\n', A @ P)"
   ]
  },
  {
   "cell_type": "markdown",
   "metadata": {},
   "source": [
    "Sure enough, A[:, p] permuted the columns of A the same way A[p, :] permuted the rows. But A @ P permuted the columns differently! What went wrong?\n",
    "\n",
    "It turns out that to apply a permutation to the columns of a matrix, you multiply on the right by the _transpose_ of the permutation matrix. Let's try that:"
   ]
  },
  {
   "cell_type": "code",
   "execution_count": null,
   "metadata": {},
   "outputs": [],
   "source": [
    "print('p =',p)\n",
    "print()\n",
    "print('A[:,p] =\\n',A[:,p])\n",
    "print()\n",
    "print('P transposed = P.T =\\n',P.T)\n",
    "print()\n",
    "print('A @ P.T =\\n', A @ P.T)"
   ]
  },
  {
   "cell_type": "markdown",
   "metadata": {},
   "source": [
    "We'll see more permutation matrices later in the course."
   ]
  },
  {
   "cell_type": "code",
   "execution_count": null,
   "metadata": {},
   "outputs": [],
   "source": []
  }
 ],
 "metadata": {
  "kernelspec": {
   "display_name": "Python 3",
   "language": "python",
   "name": "python3"
  },
  "language_info": {
   "codemirror_mode": {
    "name": "ipython",
    "version": 3
   },
   "file_extension": ".py",
   "mimetype": "text/x-python",
   "name": "python",
   "nbconvert_exporter": "python",
   "pygments_lexer": "ipython3",
   "version": "3.6.5"
  }
 },
 "nbformat": 4,
 "nbformat_minor": 2
}
