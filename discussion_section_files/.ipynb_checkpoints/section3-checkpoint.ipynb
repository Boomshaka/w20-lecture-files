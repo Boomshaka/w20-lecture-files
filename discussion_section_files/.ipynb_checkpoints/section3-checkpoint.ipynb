{
 "cells": [
  {
   "cell_type": "code",
   "execution_count": 51,
   "metadata": {},
   "outputs": [],
   "source": [
    "import numpy as np\n",
    "\n",
    "\n",
    "def Usolve(U, y, unit_diag=False):\n",
    "    \"\"\"Backward solve an upper triangular system Ux = y for x\n",
    "    Parameters: \n",
    "      U: the matrix, must be square, upper triangular, with nonzeros on the diagonal\n",
    "      y: the right-hand side vector\n",
    "      unit_diag: if True, assume the diagonal is all ones\n",
    "    Output:\n",
    "      x: the solution vector to U @ x == y\n",
    "    \"\"\"\n",
    "    # Check the input\n",
    "    m, n = U.shape\n",
    "    assert m == n, \"matrix must be square\"\n",
    "    assert np.all(np.triu(U) == U), \"matrix U must be upper triangular\"\n",
    "    if unit_diag:\n",
    "        assert np.all(np.diag(U) == 1), \"matrix U must have ones on the diagonal\"\n",
    "    yn, = y.shape\n",
    "    assert yn == n, \"rhs vector must be same size as U\"\n",
    "    \n",
    "    # Make a copy of y that we will transform into the solution\n",
    "    x = y.astype(np.float64).copy()\n",
    "    \n",
    "    # Back solve\n",
    "    for col in reversed(range(n)):\n",
    "        if not unit_diag:\n",
    "            x[col] /= U[col, col]\n",
    "        x[:col] -= x[col] * U[:col, col]\n",
    "        \n",
    "    return x\n",
    "\n",
    "def Lsolve(L, b, unit_diag=False):\n",
    "    \"\"\"Forward solve a unit lower triangular system Ly = b for y\n",
    "    Parameters: \n",
    "      L: the matrix, must be square, lower triangular, with ones on the diagonal\n",
    "      b: the right-hand side vector\n",
    "      unit_diag: if True, assume the diagonal is all ones\n",
    "    Output:\n",
    "      y: the solution vector to L @ y == b\n",
    "    \"\"\"\n",
    "    \n",
    "    # Check the input\n",
    "    m, n = L.shape\n",
    "    assert m == n, \"matrix L must be square\"\n",
    "    assert np.all(np.tril(L) == L), \"matrix L must be lower triangular\"\n",
    "    if unit_diag:\n",
    "        assert np.all(np.diag(L) == 1), \"matrix L must have ones on the diagonal\"\n",
    "    \n",
    "    # Make a copy of b that we will transform into the solution\n",
    "    y = b.astype(np.float64).copy()\n",
    "    \n",
    "    # Forward solve\n",
    "    for col in range(n):\n",
    "        if not unit_diag:\n",
    "            y[col] /= L[col, col]\n",
    "        y[col+1:] -= y[col] * L[col+1:, col]\n",
    "        \n",
    "    return y\n"
   ]
  },
  {
   "cell_type": "markdown",
   "metadata": {},
   "source": [
    "# Permutation Matrices"
   ]
  },
  {
   "cell_type": "code",
   "execution_count": 12,
   "metadata": {},
   "outputs": [],
   "source": [
    "# Example:\n",
    "\n",
    "A = np.array([[0, 1, 3, 1], \n",
    "              [1, 6, 2, 0],\n",
    "              [0, 0, 0, 2],\n",
    "              [0, 0, 6, 1]])\n",
    "b = np.array([5,4,3,2])"
   ]
  },
  {
   "cell_type": "code",
   "execution_count": 13,
   "metadata": {},
   "outputs": [],
   "source": [
    "# How can we permute A to make it upper trianglular?"
   ]
  },
  {
   "cell_type": "code",
   "execution_count": 14,
   "metadata": {
    "scrolled": true
   },
   "outputs": [
    {
     "data": {
      "text/plain": [
       "array([[1, 6, 2, 0],\n",
       "       [0, 1, 3, 1],\n",
       "       [0, 0, 6, 1],\n",
       "       [0, 0, 0, 2]])"
      ]
     },
     "execution_count": 14,
     "metadata": {},
     "output_type": "execute_result"
    }
   ],
   "source": [
    "A_p1 = A[[1,0,3,2]]\n",
    "A_p1\n"
   ]
  },
  {
   "cell_type": "code",
   "execution_count": 15,
   "metadata": {},
   "outputs": [
    {
     "name": "stdout",
     "output_type": "stream",
     "text": [
      "[[1 6 2 0]\n",
      " [0 1 3 1]\n",
      " [0 0 6 1]\n",
      " [0 0 0 2]]\n",
      "[[1. 6. 2. 0.]\n",
      " [0. 1. 3. 1.]\n",
      " [0. 0. 6. 1.]\n",
      " [0. 0. 0. 2.]]\n"
     ]
    }
   ],
   "source": [
    "P = np.eye(4)[[1,0,3,2]]\n",
    "print(A_p1)\n",
    "print(P @ A) \n",
    "#P"
   ]
  },
  {
   "cell_type": "code",
   "execution_count": 17,
   "metadata": {},
   "outputs": [
    {
     "name": "stdout",
     "output_type": "stream",
     "text": [
      "[-15.66666667   3.25         0.08333333   1.5       ]\n",
      "[-7.66666667  2.          0.33333333  1.        ]\n"
     ]
    }
   ],
   "source": [
    "ans1 = np.linalg.solve(A,b)\n",
    "\n",
    "# why doesn't the following line work:\n",
    "ans2 = Usolve(A_p1, b)\n",
    "\n",
    "\n",
    "\n",
    "print(ans1)\n",
    "print(ans2)"
   ]
  },
  {
   "cell_type": "code",
   "execution_count": 18,
   "metadata": {},
   "outputs": [
    {
     "name": "stdout",
     "output_type": "stream",
     "text": [
      "[-15.66666667   3.25         0.08333333   1.5       ]\n",
      "[-15.66666667   3.25         0.08333333   1.5       ]\n"
     ]
    }
   ],
   "source": [
    "ans3 = Usolve(A_p1, P @b)\n",
    "print(ans1)\n",
    "print(ans3)"
   ]
  },
  {
   "cell_type": "code",
   "execution_count": 19,
   "metadata": {},
   "outputs": [],
   "source": [
    "#What is a permutation matrix times another permutation matrix?"
   ]
  },
  {
   "cell_type": "markdown",
   "metadata": {},
   "source": [
    "# Symmetric Positive Definite Matrices\n",
    "\n",
    "Symmetric if a_ij = a_ji for all i, j \n",
    "          if A= A.T\n",
    "\n",
    "Q Positive Definite if:\n",
    "           - all eigenvalues are >0\n",
    "           - LU factorization without pivoting succeeeds and all pivots are > 0\n",
    "           - For every nonzero vector x: xQx.T >0"
   ]
  },
  {
   "cell_type": "markdown",
   "metadata": {},
   "source": [
    "# Decomposition"
   ]
  },
  {
   "cell_type": "markdown",
   "metadata": {},
   "source": [
    "Let's say we know `A = D*E`, how can we use D and E to solve for Ax=b?\n",
    "\n",
    "We have `D*E*x = b`\n",
    "\n",
    "\n",
    "Let `E*x=z`\n",
    "\n",
    "First, solve for z in `D*z=b` \n",
    "\n",
    "Then solve for `E*x=z`"
   ]
  },
  {
   "cell_type": "markdown",
   "metadata": {},
   "source": [
    "|  Name | D | E  | \n",
    "|---|---|---|\n",
    "|LU   | Lower Unit Trianlge  |Upper Triangle   | \n",
    "|QR   |  Orthogonal | Upper Triangular  |   \n",
    "|Cholesky   |Lower Triangular  | D.T  |   \n",
    "\n",
    "Notes:\n",
    "*Orthogonal holds the following equivalent statements:\n",
    "\n",
    "-Columns and rows are all unit vectors\n",
    "\n",
    "-inv(Q)=Q.T\n",
    "\n",
    "as a result, columns of Q are mutually perpendicular\n",
    "\n",
    "\n",
    "Cholesky factorization only works on Positive Definite Matrices\n",
    "\n"
   ]
  },
  {
   "cell_type": "code",
   "execution_count": 53,
   "metadata": {},
   "outputs": [
    {
     "data": {
      "text/plain": [
       "array([[ 1,  3,  4],\n",
       "       [ 3, 10, 14],\n",
       "       [ 4, 14, 21]])"
      ]
     },
     "execution_count": 53,
     "metadata": {},
     "output_type": "execute_result"
    }
   ],
   "source": [
    "## Cholesky Decomposition\n",
    "\n",
    "A = np.array([[1, 3, 4], [3, 10, 14], [4, 14, 21]])\n",
    "b = np.array([4,1,6])\n",
    "A"
   ]
  },
  {
   "cell_type": "code",
   "execution_count": 46,
   "metadata": {},
   "outputs": [
    {
     "name": "stdout",
     "output_type": "stream",
     "text": [
      "[[1. 0. 0.]\n",
      " [3. 1. 0.]\n",
      " [4. 2. 1.]]\n"
     ]
    }
   ],
   "source": [
    "#print(A)\n",
    "#print(np.linalg.eig(A)[0])\n",
    "L = np.linalg.cholesky(A)\n",
    "print(L)"
   ]
  },
  {
   "cell_type": "code",
   "execution_count": 47,
   "metadata": {},
   "outputs": [
    {
     "name": "stdout",
     "output_type": "stream",
     "text": [
      "[[ 1.  3.  4.]\n",
      " [ 3. 10. 14.]\n",
      " [ 4. 14. 21.]]\n"
     ]
    }
   ],
   "source": [
    "#print(L )\n",
    "print(L @ L.T)"
   ]
  },
  {
   "cell_type": "code",
   "execution_count": 54,
   "metadata": {},
   "outputs": [
    {
     "name": "stdout",
     "output_type": "stream",
     "text": [
      "[ 61. -35.  12.]\n",
      "[ 61. -35.  12.]\n"
     ]
    }
   ],
   "source": [
    "# No we solve for Lz = b\n",
    "\n",
    "y = Lsolve(L, b)\n",
    "ans = Usolve(L.T, y)\n",
    "print(ans)\n",
    "\n",
    "\n",
    "print(np.linalg.solve(A, b))"
   ]
  },
  {
   "cell_type": "code",
   "execution_count": null,
   "metadata": {},
   "outputs": [],
   "source": []
  }
 ],
 "metadata": {
  "kernelspec": {
   "display_name": "Python 3",
   "language": "python",
   "name": "python3"
  },
  "language_info": {
   "codemirror_mode": {
    "name": "ipython",
    "version": 3
   },
   "file_extension": ".py",
   "mimetype": "text/x-python",
   "name": "python",
   "nbconvert_exporter": "python",
   "pygments_lexer": "ipython3",
   "version": "3.6.5"
  }
 },
 "nbformat": 4,
 "nbformat_minor": 2
}
