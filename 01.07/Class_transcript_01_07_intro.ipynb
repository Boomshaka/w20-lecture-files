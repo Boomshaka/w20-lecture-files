{
 "cells": [
  {
   "cell_type": "markdown",
   "metadata": {},
   "source": [
    "# In-class transcript from Lecture 1, January 7, 2020\n"
   ]
  },
  {
   "cell_type": "markdown",
   "metadata": {},
   "source": [
    "# Imports and defs for lecture"
   ]
  },
  {
   "cell_type": "code",
   "execution_count": 1,
   "metadata": {},
   "outputs": [],
   "source": [
    "# These are the standard imports for CS 111. \n",
    "# This list may change as the quarter goes on.\n",
    "\n",
    "import os\n",
    "import math\n",
    "import time\n",
    "import struct\n",
    "import json\n",
    "import pandas as pd\n",
    "import networkx as nx\n",
    "import numpy as np\n",
    "import numpy.linalg as npla\n",
    "import scipy\n",
    "import scipy.sparse.linalg as spla\n",
    "from scipy import sparse\n",
    "from scipy import linalg\n",
    "from scipy import integrate\n",
    "import matplotlib\n",
    "# %matplotlib inline\n",
    "%matplotlib tk\n",
    "import matplotlib.pyplot as plt\n",
    "from matplotlib import cm\n",
    "from mpl_toolkits.mplot3d import axes3d\n",
    "\n"
   ]
  },
  {
   "cell_type": "markdown",
   "metadata": {},
   "source": [
    "<c><h2>The temperature problem:</h2></c>\n",
    "\n",
    "A cabin in the snow has all its walls at 0 degrees Celsius,\n",
    "except for a radiator at 100 degrees Celsius on one wall.\n",
    "What is the temperature at each point inside the cabin?\n",
    "\n",
    "For this model, we take the cabin to be 2-dimensional and square, and we discretize the interior\n",
    "of the cabin into a grid of k by k points. The temperature at any given point is (approximately)\n",
    "the average of the temperatures at the four neighboring points. \n",
    "This fact gives us one linear equation at each point, for a total of ndim = k<sup>2</sup> linear equations\n",
    "in the k<sup>2</sup> variables representing the temperatures at each point.\n",
    "\n",
    "We express this system of ndim linear equations in matrix form as A * t = b, where A is an ndim-by-ndim\n",
    "matrix (most of whose entries are zero), b is a right-hand size vector of ndim entries that among other\n",
    "things encodes the boundary temperatures, and the unknown vector t is the temperature at each interior point.\n",
    "\n",
    "This code sets up the matrix A and the vector b, uses scipy to solve the linear system for t, and \n",
    "uses matplotlib to visualize t."
   ]
  },
  {
   "cell_type": "code",
   "execution_count": 2,
   "metadata": {},
   "outputs": [],
   "source": [
    "# Making matrices for the temperature problem (i.e. the discrete Laplacian operator)\n",
    "\n",
    "# Two dimensions \n",
    "def make_A_2D(k):\n",
    "    \"\"\"Create the matrix of the discrete Laplacian operator in two dimensions on a k-by-k grid.\n",
    "    Parameters: \n",
    "      k: number of grid points in each dimension.\n",
    "    Outputs:\n",
    "      A: the sparse k**2-by-k**2 matrix representing the finite difference approximation to Laplace's equation.\n",
    "    \"\"\"\n",
    "    # First make a list with one triple (row, column, value) for each nonzero element of A\n",
    "    triples = []\n",
    "    for x in range(k):\n",
    "        for y in range(k):\n",
    "                \n",
    "            # what row of the matrix is grid point (x,y)?\n",
    "            row = x + k*y\n",
    "\n",
    "            # the diagonal element in this row\n",
    "            col = row\n",
    "            triples.append((row, col, 4.0))\n",
    "            # connect to grid neighbors in x dimension\n",
    "            if x > 0:\n",
    "                col = row - 1\n",
    "                triples.append((row, col, -1.0))\n",
    "            if x < k - 1:\n",
    "                col = row + 1\n",
    "                triples.append((row, col, -1.0))\n",
    "            # connect to grid neighbors in y dimension\n",
    "            if y > 0:\n",
    "                col = row - k\n",
    "                triples.append((row, col, -1.0))\n",
    "            if y < k - 1:\n",
    "                col = row + k\n",
    "                triples.append((row, col, -1.0))\n",
    "\n",
    "    # Finally convert the list of triples to a scipy sparse matrix\n",
    "    ndim = k*k\n",
    "    rownum = [t[0] for t in triples]\n",
    "    colnum = [t[1] for t in triples]\n",
    "    values = [t[2] for t in triples]\n",
    "    A = sparse.csr_matrix((values, (rownum, colnum)), shape = (ndim, ndim))\n",
    "    \n",
    "    return A \n"
   ]
  },
  {
   "cell_type": "code",
   "execution_count": 4,
   "metadata": {},
   "outputs": [],
   "source": [
    "# Make right-hand side vector for the 2D Poisson equation \n",
    "\n",
    "def make_b(k, top = 0, bottom = 0, left = 0, right = 0):\n",
    "    \"\"\"Create the right-hand side for the temperature problem on a k-by-k grid.\n",
    "    Parameters: \n",
    "      k: number of grid points in each dimension.\n",
    "      top: list of k values for top boundary (optional, defaults to 0)\n",
    "      bottom: list of k values for bottom boundary (optional, defaults to 0)\n",
    "      left: list of k values for top boundary (optional, defaults to 0)\n",
    "      right: list of k values for top boundary (optional, defaults to 0)\n",
    "    Outputs:\n",
    "      b: the k**2 element vector (as a numpy array) for the rhs of the Poisson equation with given boundary conditions\n",
    "    \"\"\"\n",
    "    # Start with a vector of zeros\n",
    "    ndim = k*k\n",
    "    b = np.zeros(shape = ndim)\n",
    "    \n",
    "    # Fill in the four boundaries as appropriate\n",
    "    b[0        : k       ] += top\n",
    "    b[ndim - k : ndim    ] += bottom\n",
    "    b[0        : ndim : k] += left\n",
    "    b[k-1      : ndim : k] += right\n",
    "    \n",
    "    return b\n",
    "    \n",
    "    \n",
    "def radiator(k, width = .3, temperature = 100.):\n",
    "    \"\"\"Create one wall with a radiator\n",
    "    Parameters: \n",
    "      k: number of grid points in each dimension; length of the wall.\n",
    "      width: width of the radiator as a fraction of length of the wall (defaults to 0.2)\n",
    "      temperature: temperature of the radiator (defaults to 100)\n",
    "    Outputs:\n",
    "      wall: the k element vector (as a numpy array) for the boundary conditions at the wall\n",
    "    \"\"\"\n",
    "    rad_start = int(k * (0.5 - width/2))\n",
    "    rad_end = int(k * (0.5 + width/2))\n",
    "    wall = np.zeros(k)\n",
    "    wall[rad_start : rad_end] = temperature\n",
    "    \n",
    "    return wall\n"
   ]
  },
  {
   "cell_type": "markdown",
   "metadata": {},
   "source": [
    "# Lecture starts here"
   ]
  },
  {
   "cell_type": "code",
   "execution_count": 5,
   "metadata": {},
   "outputs": [],
   "source": [
    "# Poisson equation (temperature equation) in 2D.\n",
    "\n",
    "# Choose how finely to discretize\n",
    "k = 100\n",
    "\n",
    "# Get the matrix (the finite-difference discretization of the Laplace operator)\n",
    "A = make_A_2D(k)\n",
    "\n",
    "# Get the right-hand side, with boundary conditions\n",
    "rad_wall = radiator(k)\n",
    "b = make_b(k, top = rad_wall)\n"
   ]
  },
  {
   "cell_type": "code",
   "execution_count": 6,
   "metadata": {},
   "outputs": [
    {
     "data": {
      "text/plain": [
       "<10000x10000 sparse matrix of type '<class 'numpy.float64'>'\n",
       "\twith 49600 stored elements in Compressed Sparse Row format>"
      ]
     },
     "execution_count": 6,
     "metadata": {},
     "output_type": "execute_result"
    }
   ],
   "source": [
    "A"
   ]
  },
  {
   "cell_type": "code",
   "execution_count": 7,
   "metadata": {},
   "outputs": [
    {
     "data": {
      "text/plain": [
       "array([0., 0., 0., ..., 0., 0., 0.])"
      ]
     },
     "execution_count": 7,
     "metadata": {},
     "output_type": "execute_result"
    }
   ],
   "source": [
    "b"
   ]
  },
  {
   "cell_type": "code",
   "execution_count": 8,
   "metadata": {},
   "outputs": [
    {
     "data": {
      "text/plain": [
       "array([  0.,   0.,   0.,   0.,   0.,   0.,   0.,   0.,   0.,   0.,   0.,\n",
       "         0.,   0.,   0.,   0.,   0.,   0.,   0.,   0.,   0.,   0.,   0.,\n",
       "         0.,   0.,   0.,   0.,   0.,   0.,   0.,   0.,   0.,   0.,   0.,\n",
       "         0.,   0., 100., 100., 100., 100., 100., 100., 100., 100., 100.,\n",
       "       100., 100., 100., 100., 100., 100.])"
      ]
     },
     "execution_count": 8,
     "metadata": {},
     "output_type": "execute_result"
    }
   ],
   "source": [
    "b[:50]"
   ]
  },
  {
   "cell_type": "code",
   "execution_count": 9,
   "metadata": {},
   "outputs": [],
   "source": [
    "x = spla.spsolve(A,b)\n"
   ]
  },
  {
   "cell_type": "code",
   "execution_count": 10,
   "metadata": {},
   "outputs": [
    {
     "data": {
      "text/plain": [
       "array([0.03453673, 0.0692933 , 0.10449331, ..., 0.01420413, 0.00947631,\n",
       "       0.00474022])"
      ]
     },
     "execution_count": 10,
     "metadata": {},
     "output_type": "execute_result"
    }
   ],
   "source": [
    "x"
   ]
  },
  {
   "cell_type": "code",
   "execution_count": 11,
   "metadata": {},
   "outputs": [
    {
     "data": {
      "text/plain": [
       "Text(0.5,1,'2-dimensional Poisson equation (temperature)')"
      ]
     },
     "execution_count": 11,
     "metadata": {},
     "output_type": "execute_result"
    }
   ],
   "source": [
    "T = x.reshape(k, k)\n",
    "plt.figure()\n",
    "plt.imshow(T, cmap=cm.hot)\n",
    "plt.xlabel('x0')\n",
    "plt.ylabel('x1')\n",
    "plt.title('2-dimensional Poisson equation (temperature)')"
   ]
  },
  {
   "cell_type": "code",
   "execution_count": 12,
   "metadata": {},
   "outputs": [
    {
     "data": {
      "text/plain": [
       "<mpl_toolkits.mplot3d.art3d.Poly3DCollection at 0x151cdce5c0>"
      ]
     },
     "execution_count": 12,
     "metadata": {},
     "output_type": "execute_result"
    }
   ],
   "source": [
    "X, Y = np.meshgrid(range(k), range(k))\n",
    "%matplotlib tk\n",
    "fig = plt.figure()\n",
    "ax = fig.gca(projection='3d')\n",
    "ax = fig.gca()\n",
    "ax.plot_surface(X, Y, T, cmap=cm.hot)"
   ]
  },
  {
   "cell_type": "code",
   "execution_count": null,
   "metadata": {},
   "outputs": [],
   "source": []
  }
 ],
 "metadata": {
  "kernelspec": {
   "display_name": "Python 3",
   "language": "python",
   "name": "python3"
  },
  "language_info": {
   "codemirror_mode": {
    "name": "ipython",
    "version": 3
   },
   "file_extension": ".py",
   "mimetype": "text/x-python",
   "name": "python",
   "nbconvert_exporter": "python",
   "pygments_lexer": "ipython3",
   "version": "3.6.5"
  }
 },
 "nbformat": 4,
 "nbformat_minor": 2
}
